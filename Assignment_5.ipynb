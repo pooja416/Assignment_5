{
 "cells": [
  {
   "cell_type": "markdown",
   "metadata": {},
   "source": [
    "# The Adult Income dataset\n",
    "\n",
    "### Description\n",
    "\n",
    "Title of dataset: adult.csv\n",
    "\n",
    "Sources:\n",
    "\n",
    "    * Original owners of database - US Census Bureau\n",
    "    * Donor of database - Ronny Kohavi and Barry Becker\n",
    "    * Date received - 05/19/96 \n",
    "    \n",
    "Number of Instances\n",
    "\n",
    "    * 48842 instances, mix of continuous and discrete (train=32561, test=16281)\n",
    "    * 45222 if instances with unknown values are removed (train=30162, test=15060)\n",
    "    * Split into train-test using MLC++ GenCVFiles (2/3, 1/3 random).\n",
    "\n",
    "Number of Attributes/Fearures/Columns\n",
    "\n",
    "    * 6 continuous, 8 nominal attributes. \n",
    "\n",
    "Attribute Information/Fearures/Columns\n",
    "\n",
    "    * age: continuous.\n",
    "    * workclass: Private, Self-emp-not-inc, Self-emp-inc, Federal-gov, Local-gov, State-gov, Without-pay, Never-worked.\n",
    "    * fnlwgt: continuous.\n",
    "    * education: Bachelors, Some-college, 11th, HS-grad, Prof-school, Assoc-acdm, Assoc-voc, 9th, 7th-8th, 12th, Masters, 1st-4th, 10th, Doctorate, 5th-6th, Preschool.\n",
    "    * education-num: continuous.\n",
    "    * marital-status: Married-civ-spouse, Divorced, Never-married, Separated, Widowed, Married-spouse-absent, Married-AF-spouse.\n",
    "    * occupation: Tech-support, Craft-repair, Other-service, Sales, Exec-managerial, Prof-specialty, Handlers-cleaners, Machine-op-inspct, Adm-clerical, Farming-fishing, Transport-moving, Priv-house-serv, Protective-serv, Armed-Forces.\n",
    "    * relationship: Wife, Own-child, Husband, Not-in-family, Other-relative, Unmarried.\n",
    "    * race: White, Asian-Pac-Islander, Amer-Indian-Eskimo, Other, Black.\n",
    "    * sex: Female, Male.\n",
    "    * capital-gain: continuous.\n",
    "    * capital-loss: continuous.\n",
    "    * hours-per-week: continuous.\n",
    "    * native-country: United-States, Cambodia, England, Puerto-Rico, Canada, Germany, Outlying-US(Guam-USVI-etc), India, Japan, Greece, South, China, Cuba, Iran, Honduras, Philippines, Italy, Poland, Jamaica, Vietnam, Mexico, Portugal, Ireland, France, Dominican-Republic, Laos, Ecuador, Taiwan, Haiti, Columbia, Hungary, Guatemala, Nicaragua, Scotland, Thailand, Yugoslavia, El-Salvador, Trinadad&Tobago, Peru, Hong, Holand-Netherlands.\n",
    "    * income: >50K, <=50K \n",
    "    \n",
    "Missing Values:\n",
    "     \n",
    "     7% rows have missing values. \n",
    "     \n"
   ]
  },
  {
   "cell_type": "markdown",
   "metadata": {},
   "source": [
    "# Load Data"
   ]
   <!-- code change to master branch-->
  },
  {
   "cell_type": "code",
   "execution_count": 1,
   "metadata": {},
   "outputs": [],
   "source": [
    "import numpy as np\n",
    "import pandas as pd\n",
    "import matplotlib.pyplot as plt\n",
    "import seaborn as sns"
   ]
  },
  {
   "cell_type": "code",
   "execution_count": 2,
   "metadata": {},
   "outputs": [],
   "source": [
    "adult=pd.read_csv('adult.csv')"
   ]
  },
  {
   "cell_type": "code",
   "execution_count": 3,
   "metadata": {},
   "outputs": [
    {
     "data": {
      "text/html": [
       "<div>\n",
       "<style scoped>\n",
       "    .dataframe tbody tr th:only-of-type {\n",
       "        vertical-align: middle;\n",
       "    }\n",
       "\n",
       "    .dataframe tbody tr th {\n",
       "        vertical-align: top;\n",
       "    }\n",
       "\n",
       "    .dataframe thead th {\n",
       "        text-align: right;\n",
       "    }\n",
       "</style>\n",
       "<table border=\"1\" class=\"dataframe\">\n",
       "  <thead>\n",
       "    <tr style=\"text-align: right;\">\n",
       "      <th></th>\n",
       "      <th>age</th>\n",
       "      <th>workclass</th>\n",
       "      <th>fnlwgt</th>\n",
       "      <th>education</th>\n",
       "      <th>educational-num</th>\n",
       "      <th>marital-status</th>\n",
       "      <th>occupation</th>\n",
       "      <th>relationship</th>\n",
       "      <th>race</th>\n",
       "      <th>gender</th>\n",
       "      <th>capital-gain</th>\n",
       "      <th>capital-loss</th>\n",
       "      <th>hours-per-week</th>\n",
       "      <th>native-country</th>\n",
       "      <th>income</th>\n",
       "    </tr>\n",
       "  </thead>\n",
       "  <tbody>\n",
       "    <tr>\n",
       "      <th>0</th>\n",
       "      <td>25</td>\n",
       "      <td>Private</td>\n",
       "      <td>226802</td>\n",
       "      <td>11th</td>\n",
       "      <td>7</td>\n",
       "      <td>Never-married</td>\n",
       "      <td>Machine-op-inspct</td>\n",
       "      <td>Own-child</td>\n",
       "      <td>Black</td>\n",
       "      <td>Male</td>\n",
       "      <td>0</td>\n",
       "      <td>0</td>\n",
       "      <td>40</td>\n",
       "      <td>United-States</td>\n",
       "      <td>&lt;=50K</td>\n",
       "    </tr>\n",
       "    <tr>\n",
       "      <th>1</th>\n",
       "      <td>38</td>\n",
       "      <td>Private</td>\n",
       "      <td>89814</td>\n",
       "      <td>HS-grad</td>\n",
       "      <td>9</td>\n",
       "      <td>Married-civ-spouse</td>\n",
       "      <td>Farming-fishing</td>\n",
       "      <td>Husband</td>\n",
       "      <td>White</td>\n",
       "      <td>Male</td>\n",
       "      <td>0</td>\n",
       "      <td>0</td>\n",
       "      <td>50</td>\n",
       "      <td>United-States</td>\n",
       "      <td>&lt;=50K</td>\n",
       "    </tr>\n",
       "    <tr>\n",
       "      <th>2</th>\n",
       "      <td>28</td>\n",
       "      <td>Local-gov</td>\n",
       "      <td>336951</td>\n",
       "      <td>Assoc-acdm</td>\n",
       "      <td>12</td>\n",
       "      <td>Married-civ-spouse</td>\n",
       "      <td>Protective-serv</td>\n",
       "      <td>Husband</td>\n",
       "      <td>White</td>\n",
       "      <td>Male</td>\n",
       "      <td>0</td>\n",
       "      <td>0</td>\n",
       "      <td>40</td>\n",
       "      <td>United-States</td>\n",
       "      <td>&gt;50K</td>\n",
       "    </tr>\n",
       "    <tr>\n",
       "      <th>3</th>\n",
       "      <td>44</td>\n",
       "      <td>Private</td>\n",
       "      <td>160323</td>\n",
       "      <td>Some-college</td>\n",
       "      <td>10</td>\n",
       "      <td>Married-civ-spouse</td>\n",
       "      <td>Machine-op-inspct</td>\n",
       "      <td>Husband</td>\n",
       "      <td>Black</td>\n",
       "      <td>Male</td>\n",
       "      <td>7688</td>\n",
       "      <td>0</td>\n",
       "      <td>40</td>\n",
       "      <td>United-States</td>\n",
       "      <td>&gt;50K</td>\n",
       "    </tr>\n",
       "    <tr>\n",
       "      <th>4</th>\n",
       "      <td>18</td>\n",
       "      <td>?</td>\n",
       "      <td>103497</td>\n",
       "      <td>Some-college</td>\n",
       "      <td>10</td>\n",
       "      <td>Never-married</td>\n",
       "      <td>?</td>\n",
       "      <td>Own-child</td>\n",
       "      <td>White</td>\n",
       "      <td>Female</td>\n",
       "      <td>0</td>\n",
       "      <td>0</td>\n",
       "      <td>30</td>\n",
       "      <td>United-States</td>\n",
       "      <td>&lt;=50K</td>\n",
       "    </tr>\n",
       "  </tbody>\n",
       "</table>\n",
       "</div>"
      ],
      "text/plain": [
       "   age  workclass  fnlwgt     education  educational-num      marital-status  \\\n",
       "0   25    Private  226802          11th                7       Never-married   \n",
       "1   38    Private   89814       HS-grad                9  Married-civ-spouse   \n",
       "2   28  Local-gov  336951    Assoc-acdm               12  Married-civ-spouse   \n",
       "3   44    Private  160323  Some-college               10  Married-civ-spouse   \n",
       "4   18          ?  103497  Some-college               10       Never-married   \n",
       "\n",
       "          occupation relationship   race  gender  capital-gain  capital-loss  \\\n",
       "0  Machine-op-inspct    Own-child  Black    Male             0             0   \n",
       "1    Farming-fishing      Husband  White    Male             0             0   \n",
       "2    Protective-serv      Husband  White    Male             0             0   \n",
       "3  Machine-op-inspct      Husband  Black    Male          7688             0   \n",
       "4                  ?    Own-child  White  Female             0             0   \n",
       "\n",
       "   hours-per-week native-country income  \n",
       "0              40  United-States  <=50K  \n",
       "1              50  United-States  <=50K  \n",
       "2              40  United-States   >50K  \n",
       "3              40  United-States   >50K  \n",
       "4              30  United-States  <=50K  "
      ]
     },
     "execution_count": 3,
     "metadata": {},
     "output_type": "execute_result"
    }
   ],
   "source": [
    "adult.head()"
   ]
  },
  {
   "cell_type": "code",
   "execution_count": 4,
   "metadata": {},
   "outputs": [
    {
     "name": "stdout",
     "output_type": "stream",
     "text": [
      "(48842, 15)\n",
      "No. of rows :  48842\n",
      "No. of columns :  15\n"
     ]
    }
   ],
   "source": [
    "print(adult.shape)\n",
    "print('No. of rows : ',adult.shape[0])\n",
    "print('No. of columns : ',adult.shape[1])"
   ]
  },
  {
   "cell_type": "code",
   "execution_count": 5,
   "metadata": {},
   "outputs": [
    {
     "data": {
      "text/html": [
       "<div>\n",
       "<style scoped>\n",
       "    .dataframe tbody tr th:only-of-type {\n",
       "        vertical-align: middle;\n",
       "    }\n",
       "\n",
       "    .dataframe tbody tr th {\n",
       "        vertical-align: top;\n",
       "    }\n",
       "\n",
       "    .dataframe thead th {\n",
       "        text-align: right;\n",
       "    }\n",
       "</style>\n",
       "<table border=\"1\" class=\"dataframe\">\n",
       "  <thead>\n",
       "    <tr style=\"text-align: right;\">\n",
       "      <th></th>\n",
       "      <th>age</th>\n",
       "      <th>fnlwgt</th>\n",
       "      <th>educational-num</th>\n",
       "      <th>capital-gain</th>\n",
       "      <th>capital-loss</th>\n",
       "      <th>hours-per-week</th>\n",
       "    </tr>\n",
       "  </thead>\n",
       "  <tbody>\n",
       "    <tr>\n",
       "      <th>count</th>\n",
       "      <td>48842.000000</td>\n",
       "      <td>4.884200e+04</td>\n",
       "      <td>48842.000000</td>\n",
       "      <td>48842.000000</td>\n",
       "      <td>48842.000000</td>\n",
       "      <td>48842.000000</td>\n",
       "    </tr>\n",
       "    <tr>\n",
       "      <th>mean</th>\n",
       "      <td>38.643585</td>\n",
       "      <td>1.896641e+05</td>\n",
       "      <td>10.078089</td>\n",
       "      <td>1079.067626</td>\n",
       "      <td>87.502314</td>\n",
       "      <td>40.422382</td>\n",
       "    </tr>\n",
       "    <tr>\n",
       "      <th>std</th>\n",
       "      <td>13.710510</td>\n",
       "      <td>1.056040e+05</td>\n",
       "      <td>2.570973</td>\n",
       "      <td>7452.019058</td>\n",
       "      <td>403.004552</td>\n",
       "      <td>12.391444</td>\n",
       "    </tr>\n",
       "    <tr>\n",
       "      <th>min</th>\n",
       "      <td>17.000000</td>\n",
       "      <td>1.228500e+04</td>\n",
       "      <td>1.000000</td>\n",
       "      <td>0.000000</td>\n",
       "      <td>0.000000</td>\n",
       "      <td>1.000000</td>\n",
       "    </tr>\n",
       "    <tr>\n",
       "      <th>25%</th>\n",
       "      <td>28.000000</td>\n",
       "      <td>1.175505e+05</td>\n",
       "      <td>9.000000</td>\n",
       "      <td>0.000000</td>\n",
       "      <td>0.000000</td>\n",
       "      <td>40.000000</td>\n",
       "    </tr>\n",
       "    <tr>\n",
       "      <th>50%</th>\n",
       "      <td>37.000000</td>\n",
       "      <td>1.781445e+05</td>\n",
       "      <td>10.000000</td>\n",
       "      <td>0.000000</td>\n",
       "      <td>0.000000</td>\n",
       "      <td>40.000000</td>\n",
       "    </tr>\n",
       "    <tr>\n",
       "      <th>75%</th>\n",
       "      <td>48.000000</td>\n",
       "      <td>2.376420e+05</td>\n",
       "      <td>12.000000</td>\n",
       "      <td>0.000000</td>\n",
       "      <td>0.000000</td>\n",
       "      <td>45.000000</td>\n",
       "    </tr>\n",
       "    <tr>\n",
       "      <th>max</th>\n",
       "      <td>90.000000</td>\n",
       "      <td>1.490400e+06</td>\n",
       "      <td>16.000000</td>\n",
       "      <td>99999.000000</td>\n",
       "      <td>4356.000000</td>\n",
       "      <td>99.000000</td>\n",
       "    </tr>\n",
       "  </tbody>\n",
       "</table>\n",
       "</div>"
      ],
      "text/plain": [
       "                age        fnlwgt  educational-num  capital-gain  \\\n",
       "count  48842.000000  4.884200e+04     48842.000000  48842.000000   \n",
       "mean      38.643585  1.896641e+05        10.078089   1079.067626   \n",
       "std       13.710510  1.056040e+05         2.570973   7452.019058   \n",
       "min       17.000000  1.228500e+04         1.000000      0.000000   \n",
       "25%       28.000000  1.175505e+05         9.000000      0.000000   \n",
       "50%       37.000000  1.781445e+05        10.000000      0.000000   \n",
       "75%       48.000000  2.376420e+05        12.000000      0.000000   \n",
       "max       90.000000  1.490400e+06        16.000000  99999.000000   \n",
       "\n",
       "       capital-loss  hours-per-week  \n",
       "count  48842.000000    48842.000000  \n",
       "mean      87.502314       40.422382  \n",
       "std      403.004552       12.391444  \n",
       "min        0.000000        1.000000  \n",
       "25%        0.000000       40.000000  \n",
       "50%        0.000000       40.000000  \n",
       "75%        0.000000       45.000000  \n",
       "max     4356.000000       99.000000  "
      ]
     },
     "execution_count": 5,
     "metadata": {},
     "output_type": "execute_result"
    }
   ],
   "source": [
    "adult.describe()"
   ]
  },
  {
   "cell_type": "code",
   "execution_count": 6,
   "metadata": {},
   "outputs": [
    {
     "name": "stdout",
     "output_type": "stream",
     "text": [
      "<class 'pandas.core.frame.DataFrame'>\n",
      "RangeIndex: 48842 entries, 0 to 48841\n",
      "Data columns (total 15 columns):\n",
      " #   Column           Non-Null Count  Dtype \n",
      "---  ------           --------------  ----- \n",
      " 0   age              48842 non-null  int64 \n",
      " 1   workclass        48842 non-null  object\n",
      " 2   fnlwgt           48842 non-null  int64 \n",
      " 3   education        48842 non-null  object\n",
      " 4   educational-num  48842 non-null  int64 \n",
      " 5   marital-status   48842 non-null  object\n",
      " 6   occupation       48842 non-null  object\n",
      " 7   relationship     48842 non-null  object\n",
      " 8   race             48842 non-null  object\n",
      " 9   gender           48842 non-null  object\n",
      " 10  capital-gain     48842 non-null  int64 \n",
      " 11  capital-loss     48842 non-null  int64 \n",
      " 12  hours-per-week   48842 non-null  int64 \n",
      " 13  native-country   48842 non-null  object\n",
      " 14  income           48842 non-null  object\n",
      "dtypes: int64(6), object(9)\n",
      "memory usage: 5.6+ MB\n"
     ]
    }
   ],
   "source": [
    "adult.info()"
   ]
  },
  {
   "cell_type": "markdown",
   "metadata": {},
   "source": [
    "# Handle Missing Value"
   ]
  },
  {
   "cell_type": "code",
   "execution_count": 7,
   "metadata": {},
   "outputs": [
    {
     "data": {
      "text/html": [
       "<div>\n",
       "<style scoped>\n",
       "    .dataframe tbody tr th:only-of-type {\n",
       "        vertical-align: middle;\n",
       "    }\n",
       "\n",
       "    .dataframe tbody tr th {\n",
       "        vertical-align: top;\n",
       "    }\n",
       "\n",
       "    .dataframe thead th {\n",
       "        text-align: right;\n",
       "    }\n",
       "</style>\n",
       "<table border=\"1\" class=\"dataframe\">\n",
       "  <thead>\n",
       "    <tr style=\"text-align: right;\">\n",
       "      <th></th>\n",
       "      <th>age</th>\n",
       "      <th>workclass</th>\n",
       "      <th>fnlwgt</th>\n",
       "      <th>education</th>\n",
       "      <th>educational-num</th>\n",
       "      <th>marital-status</th>\n",
       "      <th>occupation</th>\n",
       "      <th>relationship</th>\n",
       "      <th>race</th>\n",
       "      <th>gender</th>\n",
       "      <th>capital-gain</th>\n",
       "      <th>capital-loss</th>\n",
       "      <th>hours-per-week</th>\n",
       "      <th>native-country</th>\n",
       "      <th>income</th>\n",
       "    </tr>\n",
       "  </thead>\n",
       "  <tbody>\n",
       "    <tr>\n",
       "      <th>0</th>\n",
       "      <td>25</td>\n",
       "      <td>Private</td>\n",
       "      <td>226802</td>\n",
       "      <td>11th</td>\n",
       "      <td>7</td>\n",
       "      <td>Never-married</td>\n",
       "      <td>Machine-op-inspct</td>\n",
       "      <td>Own-child</td>\n",
       "      <td>Black</td>\n",
       "      <td>Male</td>\n",
       "      <td>0</td>\n",
       "      <td>0</td>\n",
       "      <td>40</td>\n",
       "      <td>United-States</td>\n",
       "      <td>&lt;=50K</td>\n",
       "    </tr>\n",
       "    <tr>\n",
       "      <th>1</th>\n",
       "      <td>38</td>\n",
       "      <td>Private</td>\n",
       "      <td>89814</td>\n",
       "      <td>HS-grad</td>\n",
       "      <td>9</td>\n",
       "      <td>Married-civ-spouse</td>\n",
       "      <td>Farming-fishing</td>\n",
       "      <td>Husband</td>\n",
       "      <td>White</td>\n",
       "      <td>Male</td>\n",
       "      <td>0</td>\n",
       "      <td>0</td>\n",
       "      <td>50</td>\n",
       "      <td>United-States</td>\n",
       "      <td>&lt;=50K</td>\n",
       "    </tr>\n",
       "    <tr>\n",
       "      <th>2</th>\n",
       "      <td>28</td>\n",
       "      <td>Local-gov</td>\n",
       "      <td>336951</td>\n",
       "      <td>Assoc-acdm</td>\n",
       "      <td>12</td>\n",
       "      <td>Married-civ-spouse</td>\n",
       "      <td>Protective-serv</td>\n",
       "      <td>Husband</td>\n",
       "      <td>White</td>\n",
       "      <td>Male</td>\n",
       "      <td>0</td>\n",
       "      <td>0</td>\n",
       "      <td>40</td>\n",
       "      <td>United-States</td>\n",
       "      <td>&gt;50K</td>\n",
       "    </tr>\n",
       "    <tr>\n",
       "      <th>3</th>\n",
       "      <td>44</td>\n",
       "      <td>Private</td>\n",
       "      <td>160323</td>\n",
       "      <td>Some-college</td>\n",
       "      <td>10</td>\n",
       "      <td>Married-civ-spouse</td>\n",
       "      <td>Machine-op-inspct</td>\n",
       "      <td>Husband</td>\n",
       "      <td>Black</td>\n",
       "      <td>Male</td>\n",
       "      <td>7688</td>\n",
       "      <td>0</td>\n",
       "      <td>40</td>\n",
       "      <td>United-States</td>\n",
       "      <td>&gt;50K</td>\n",
       "    </tr>\n",
       "    <tr>\n",
       "      <th>4</th>\n",
       "      <td>18</td>\n",
       "      <td>NaN</td>\n",
       "      <td>103497</td>\n",
       "      <td>Some-college</td>\n",
       "      <td>10</td>\n",
       "      <td>Never-married</td>\n",
       "      <td>NaN</td>\n",
       "      <td>Own-child</td>\n",
       "      <td>White</td>\n",
       "      <td>Female</td>\n",
       "      <td>0</td>\n",
       "      <td>0</td>\n",
       "      <td>30</td>\n",
       "      <td>United-States</td>\n",
       "      <td>&lt;=50K</td>\n",
       "    </tr>\n",
       "  </tbody>\n",
       "</table>\n",
       "</div>"
      ],
      "text/plain": [
       "   age  workclass  fnlwgt     education  educational-num      marital-status  \\\n",
       "0   25    Private  226802          11th                7       Never-married   \n",
       "1   38    Private   89814       HS-grad                9  Married-civ-spouse   \n",
       "2   28  Local-gov  336951    Assoc-acdm               12  Married-civ-spouse   \n",
       "3   44    Private  160323  Some-college               10  Married-civ-spouse   \n",
       "4   18        NaN  103497  Some-college               10       Never-married   \n",
       "\n",
       "          occupation relationship   race  gender  capital-gain  capital-loss  \\\n",
       "0  Machine-op-inspct    Own-child  Black    Male             0             0   \n",
       "1    Farming-fishing      Husband  White    Male             0             0   \n",
       "2    Protective-serv      Husband  White    Male             0             0   \n",
       "3  Machine-op-inspct      Husband  Black    Male          7688             0   \n",
       "4                NaN    Own-child  White  Female             0             0   \n",
       "\n",
       "   hours-per-week native-country income  \n",
       "0              40  United-States  <=50K  \n",
       "1              50  United-States  <=50K  \n",
       "2              40  United-States   >50K  \n",
       "3              40  United-States   >50K  \n",
       "4              30  United-States  <=50K  "
      ]
     },
     "execution_count": 7,
     "metadata": {},
     "output_type": "execute_result"
    }
   ],
   "source": [
    "missing_val={'n/a','-','?'}\n",
    "adult=pd.read_csv('adult.csv',na_values=missing_val)\n",
    "adult.head()"
   ]
  },
  {
   "cell_type": "code",
   "execution_count": 8,
   "metadata": {},
   "outputs": [
    {
     "data": {
      "text/plain": [
       "age                   0\n",
       "workclass          2799\n",
       "fnlwgt                0\n",
       "education             0\n",
       "educational-num       0\n",
       "marital-status        0\n",
       "occupation         2809\n",
       "relationship          0\n",
       "race                  0\n",
       "gender                0\n",
       "capital-gain          0\n",
       "capital-loss          0\n",
       "hours-per-week        0\n",
       "native-country      857\n",
       "income                0\n",
       "dtype: int64"
      ]
     },
     "execution_count": 8,
     "metadata": {},
     "output_type": "execute_result"
    }
   ],
   "source": [
    "adult.isnull().sum()"
   ]
  },
  {
   "cell_type": "code",
   "execution_count": 9,
   "metadata": {},
   "outputs": [
    {
     "name": "stdout",
     "output_type": "stream",
     "text": [
      "<class 'pandas.core.frame.DataFrame'>\n",
      "RangeIndex: 48842 entries, 0 to 48841\n",
      "Data columns (total 15 columns):\n",
      " #   Column           Non-Null Count  Dtype \n",
      "---  ------           --------------  ----- \n",
      " 0   age              48842 non-null  int64 \n",
      " 1   workclass        46043 non-null  object\n",
      " 2   fnlwgt           48842 non-null  int64 \n",
      " 3   education        48842 non-null  object\n",
      " 4   educational-num  48842 non-null  int64 \n",
      " 5   marital-status   48842 non-null  object\n",
      " 6   occupation       46033 non-null  object\n",
      " 7   relationship     48842 non-null  object\n",
      " 8   race             48842 non-null  object\n",
      " 9   gender           48842 non-null  object\n",
      " 10  capital-gain     48842 non-null  int64 \n",
      " 11  capital-loss     48842 non-null  int64 \n",
      " 12  hours-per-week   48842 non-null  int64 \n",
      " 13  native-country   47985 non-null  object\n",
      " 14  income           48842 non-null  object\n",
      "dtypes: int64(6), object(9)\n",
      "memory usage: 5.6+ MB\n"
     ]
    }
   ],
   "source": [
    "adult.info()"
   ]
  },
  {
   "cell_type": "code",
   "execution_count": 10,
   "metadata": {},
   "outputs": [],
   "source": [
    "#remove rows where missing value is present\n",
    "adult=adult.dropna(axis=0,how='any')"
   ]
  },
  {
   "cell_type": "code",
   "execution_count": 11,
   "metadata": {},
   "outputs": [
    {
     "name": "stdout",
     "output_type": "stream",
     "text": [
      "<class 'pandas.core.frame.DataFrame'>\n",
      "Int64Index: 45222 entries, 0 to 48841\n",
      "Data columns (total 15 columns):\n",
      " #   Column           Non-Null Count  Dtype \n",
      "---  ------           --------------  ----- \n",
      " 0   age              45222 non-null  int64 \n",
      " 1   workclass        45222 non-null  object\n",
      " 2   fnlwgt           45222 non-null  int64 \n",
      " 3   education        45222 non-null  object\n",
      " 4   educational-num  45222 non-null  int64 \n",
      " 5   marital-status   45222 non-null  object\n",
      " 6   occupation       45222 non-null  object\n",
      " 7   relationship     45222 non-null  object\n",
      " 8   race             45222 non-null  object\n",
      " 9   gender           45222 non-null  object\n",
      " 10  capital-gain     45222 non-null  int64 \n",
      " 11  capital-loss     45222 non-null  int64 \n",
      " 12  hours-per-week   45222 non-null  int64 \n",
      " 13  native-country   45222 non-null  object\n",
      " 14  income           45222 non-null  object\n",
      "dtypes: int64(6), object(9)\n",
      "memory usage: 5.5+ MB\n"
     ]
    }
   ],
   "source": [
    "adult.info()"
   ]
  },
  {
   "cell_type": "code",
   "execution_count": 12,
   "metadata": {},
   "outputs": [],
   "source": [
    "#remove fnlwgt column to adult dataset\n",
    "adult=adult.drop('fnlwgt',axis=1)"
   ]
  },
  {
   "cell_type": "code",
   "execution_count": 13,
   "metadata": {},
   "outputs": [],
   "source": [
    "#remove fnlwgt column to adult dataset\n",
    "adult=adult.drop('educational-num',axis=1)"
   ]
  },
  {
   "cell_type": "code",
   "execution_count": 14,
   "metadata": {},
   "outputs": [
    {
     "name": "stdout",
     "output_type": "stream",
     "text": [
      "<class 'pandas.core.frame.DataFrame'>\n",
      "Int64Index: 45222 entries, 0 to 48841\n",
      "Data columns (total 13 columns):\n",
      " #   Column          Non-Null Count  Dtype \n",
      "---  ------          --------------  ----- \n",
      " 0   age             45222 non-null  int64 \n",
      " 1   workclass       45222 non-null  object\n",
      " 2   education       45222 non-null  object\n",
      " 3   marital-status  45222 non-null  object\n",
      " 4   occupation      45222 non-null  object\n",
      " 5   relationship    45222 non-null  object\n",
      " 6   race            45222 non-null  object\n",
      " 7   gender          45222 non-null  object\n",
      " 8   capital-gain    45222 non-null  int64 \n",
      " 9   capital-loss    45222 non-null  int64 \n",
      " 10  hours-per-week  45222 non-null  int64 \n",
      " 11  native-country  45222 non-null  object\n",
      " 12  income          45222 non-null  object\n",
      "dtypes: int64(4), object(9)\n",
      "memory usage: 4.8+ MB\n"
     ]
    }
   ],
   "source": [
    "adult.info()"
   ]
  },
  {
   "cell_type": "code",
   "execution_count": 15,
   "metadata": {},
   "outputs": [
    {
     "data": {
      "text/plain": [
       "<=50K    34014\n",
       ">50K     11208\n",
       "Name: income, dtype: int64"
      ]
     },
     "execution_count": 15,
     "metadata": {},
     "output_type": "execute_result"
    }
   ],
   "source": [
    "adult['income'].value_counts()"
   ]
  },
  {
   "cell_type": "code",
   "execution_count": 16,
   "metadata": {},
   "outputs": [
    {
     "data": {
      "text/plain": [
       "<matplotlib.axes._subplots.AxesSubplot at 0x1eb102873c8>"
      ]
     },
     "execution_count": 16,
     "metadata": {},
     "output_type": "execute_result"
    },
    {
     "data": {
      "image/png": "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\n",
      "text/plain": [
       "<Figure size 432x288 with 1 Axes>"
      ]
     },
     "metadata": {
      "needs_background": "light"
     },
     "output_type": "display_data"
    }
   ],
   "source": [
    "sns.countplot(x='income', data=adult, palette='Greens_d')"
   ]
  },
  {
   "cell_type": "markdown",
   "metadata": {},
   "source": [
    "# Data Preparation"
   ]
  },
  {
   "cell_type": "code",
   "execution_count": 17,
   "metadata": {},
   "outputs": [
    {
     "data": {
      "text/html": [
       "<div>\n",
       "<style scoped>\n",
       "    .dataframe tbody tr th:only-of-type {\n",
       "        vertical-align: middle;\n",
       "    }\n",
       "\n",
       "    .dataframe tbody tr th {\n",
       "        vertical-align: top;\n",
       "    }\n",
       "\n",
       "    .dataframe thead th {\n",
       "        text-align: right;\n",
       "    }\n",
       "</style>\n",
       "<table border=\"1\" class=\"dataframe\">\n",
       "  <thead>\n",
       "    <tr style=\"text-align: right;\">\n",
       "      <th></th>\n",
       "      <th>workclass</th>\n",
       "      <th>education</th>\n",
       "      <th>marital-status</th>\n",
       "      <th>occupation</th>\n",
       "      <th>relationship</th>\n",
       "      <th>race</th>\n",
       "      <th>gender</th>\n",
       "      <th>native-country</th>\n",
       "      <th>income</th>\n",
       "    </tr>\n",
       "  </thead>\n",
       "  <tbody>\n",
       "    <tr>\n",
       "      <th>0</th>\n",
       "      <td>Private</td>\n",
       "      <td>11th</td>\n",
       "      <td>Never-married</td>\n",
       "      <td>Machine-op-inspct</td>\n",
       "      <td>Own-child</td>\n",
       "      <td>Black</td>\n",
       "      <td>Male</td>\n",
       "      <td>United-States</td>\n",
       "      <td>&lt;=50K</td>\n",
       "    </tr>\n",
       "    <tr>\n",
       "      <th>1</th>\n",
       "      <td>Private</td>\n",
       "      <td>HS-grad</td>\n",
       "      <td>Married-civ-spouse</td>\n",
       "      <td>Farming-fishing</td>\n",
       "      <td>Husband</td>\n",
       "      <td>White</td>\n",
       "      <td>Male</td>\n",
       "      <td>United-States</td>\n",
       "      <td>&lt;=50K</td>\n",
       "    </tr>\n",
       "    <tr>\n",
       "      <th>2</th>\n",
       "      <td>Local-gov</td>\n",
       "      <td>Assoc-acdm</td>\n",
       "      <td>Married-civ-spouse</td>\n",
       "      <td>Protective-serv</td>\n",
       "      <td>Husband</td>\n",
       "      <td>White</td>\n",
       "      <td>Male</td>\n",
       "      <td>United-States</td>\n",
       "      <td>&gt;50K</td>\n",
       "    </tr>\n",
       "    <tr>\n",
       "      <th>3</th>\n",
       "      <td>Private</td>\n",
       "      <td>Some-college</td>\n",
       "      <td>Married-civ-spouse</td>\n",
       "      <td>Machine-op-inspct</td>\n",
       "      <td>Husband</td>\n",
       "      <td>Black</td>\n",
       "      <td>Male</td>\n",
       "      <td>United-States</td>\n",
       "      <td>&gt;50K</td>\n",
       "    </tr>\n",
       "    <tr>\n",
       "      <th>5</th>\n",
       "      <td>Private</td>\n",
       "      <td>10th</td>\n",
       "      <td>Never-married</td>\n",
       "      <td>Other-service</td>\n",
       "      <td>Not-in-family</td>\n",
       "      <td>White</td>\n",
       "      <td>Male</td>\n",
       "      <td>United-States</td>\n",
       "      <td>&lt;=50K</td>\n",
       "    </tr>\n",
       "  </tbody>\n",
       "</table>\n",
       "</div>"
      ],
      "text/plain": [
       "   workclass     education      marital-status         occupation  \\\n",
       "0    Private          11th       Never-married  Machine-op-inspct   \n",
       "1    Private       HS-grad  Married-civ-spouse    Farming-fishing   \n",
       "2  Local-gov    Assoc-acdm  Married-civ-spouse    Protective-serv   \n",
       "3    Private  Some-college  Married-civ-spouse  Machine-op-inspct   \n",
       "5    Private          10th       Never-married      Other-service   \n",
       "\n",
       "    relationship   race gender native-country income  \n",
       "0      Own-child  Black   Male  United-States  <=50K  \n",
       "1        Husband  White   Male  United-States  <=50K  \n",
       "2        Husband  White   Male  United-States   >50K  \n",
       "3        Husband  Black   Male  United-States   >50K  \n",
       "5  Not-in-family  White   Male  United-States  <=50K  "
      ]
     },
     "execution_count": 17,
     "metadata": {},
     "output_type": "execute_result"
    }
   ],
   "source": [
    "adt_categorical = adult.select_dtypes(include=['object'])\n",
    "\n",
    "adt_categorical.head()"
   ]
  },
  {
   "cell_type": "code",
   "execution_count": 18,
   "metadata": {},
   "outputs": [
    {
     "data": {
      "text/html": [
       "<div>\n",
       "<style scoped>\n",
       "    .dataframe tbody tr th:only-of-type {\n",
       "        vertical-align: middle;\n",
       "    }\n",
       "\n",
       "    .dataframe tbody tr th {\n",
       "        vertical-align: top;\n",
       "    }\n",
       "\n",
       "    .dataframe thead th {\n",
       "        text-align: right;\n",
       "    }\n",
       "</style>\n",
       "<table border=\"1\" class=\"dataframe\">\n",
       "  <thead>\n",
       "    <tr style=\"text-align: right;\">\n",
       "      <th></th>\n",
       "      <th>age</th>\n",
       "      <th>capital-gain</th>\n",
       "      <th>capital-loss</th>\n",
       "      <th>hours-per-week</th>\n",
       "    </tr>\n",
       "  </thead>\n",
       "  <tbody>\n",
       "    <tr>\n",
       "      <th>0</th>\n",
       "      <td>25</td>\n",
       "      <td>0</td>\n",
       "      <td>0</td>\n",
       "      <td>40</td>\n",
       "    </tr>\n",
       "    <tr>\n",
       "      <th>1</th>\n",
       "      <td>38</td>\n",
       "      <td>0</td>\n",
       "      <td>0</td>\n",
       "      <td>50</td>\n",
       "    </tr>\n",
       "    <tr>\n",
       "      <th>2</th>\n",
       "      <td>28</td>\n",
       "      <td>0</td>\n",
       "      <td>0</td>\n",
       "      <td>40</td>\n",
       "    </tr>\n",
       "    <tr>\n",
       "      <th>3</th>\n",
       "      <td>44</td>\n",
       "      <td>7688</td>\n",
       "      <td>0</td>\n",
       "      <td>40</td>\n",
       "    </tr>\n",
       "    <tr>\n",
       "      <th>5</th>\n",
       "      <td>34</td>\n",
       "      <td>0</td>\n",
       "      <td>0</td>\n",
       "      <td>30</td>\n",
       "    </tr>\n",
       "  </tbody>\n",
       "</table>\n",
       "</div>"
      ],
      "text/plain": [
       "   age  capital-gain  capital-loss  hours-per-week\n",
       "0   25             0             0              40\n",
       "1   38             0             0              50\n",
       "2   28             0             0              40\n",
       "3   44          7688             0              40\n",
       "5   34             0             0              30"
      ]
     },
     "execution_count": 18,
     "metadata": {},
     "output_type": "execute_result"
    }
   ],
   "source": [
    "adt_numerical = adult.select_dtypes(include=['int64'])\n",
    "\n",
    "adt_numerical.head()"
   ]
  },
  {
   "cell_type": "code",
   "execution_count": 19,
   "metadata": {},
   "outputs": [
    {
     "data": {
      "text/html": [
       "<div>\n",
       "<style scoped>\n",
       "    .dataframe tbody tr th:only-of-type {\n",
       "        vertical-align: middle;\n",
       "    }\n",
       "\n",
       "    .dataframe tbody tr th {\n",
       "        vertical-align: top;\n",
       "    }\n",
       "\n",
       "    .dataframe thead th {\n",
       "        text-align: right;\n",
       "    }\n",
       "</style>\n",
       "<table border=\"1\" class=\"dataframe\">\n",
       "  <thead>\n",
       "    <tr style=\"text-align: right;\">\n",
       "      <th></th>\n",
       "      <th>age</th>\n",
       "      <th>capital-gain</th>\n",
       "      <th>capital-loss</th>\n",
       "      <th>hours-per-week</th>\n",
       "    </tr>\n",
       "  </thead>\n",
       "  <tbody>\n",
       "    <tr>\n",
       "      <th>0</th>\n",
       "      <td>-1.024983</td>\n",
       "      <td>-0.146733</td>\n",
       "      <td>-0.21878</td>\n",
       "      <td>-0.078120</td>\n",
       "    </tr>\n",
       "    <tr>\n",
       "      <th>1</th>\n",
       "      <td>-0.041455</td>\n",
       "      <td>-0.146733</td>\n",
       "      <td>-0.21878</td>\n",
       "      <td>0.754701</td>\n",
       "    </tr>\n",
       "    <tr>\n",
       "      <th>2</th>\n",
       "      <td>-0.798015</td>\n",
       "      <td>-0.146733</td>\n",
       "      <td>-0.21878</td>\n",
       "      <td>-0.078120</td>\n",
       "    </tr>\n",
       "    <tr>\n",
       "      <th>3</th>\n",
       "      <td>0.412481</td>\n",
       "      <td>0.877467</td>\n",
       "      <td>-0.21878</td>\n",
       "      <td>-0.078120</td>\n",
       "    </tr>\n",
       "    <tr>\n",
       "      <th>4</th>\n",
       "      <td>-0.344079</td>\n",
       "      <td>-0.146733</td>\n",
       "      <td>-0.21878</td>\n",
       "      <td>-0.910942</td>\n",
       "    </tr>\n",
       "  </tbody>\n",
       "</table>\n",
       "</div>"
      ],
      "text/plain": [
       "        age  capital-gain  capital-loss  hours-per-week\n",
       "0 -1.024983     -0.146733      -0.21878       -0.078120\n",
       "1 -0.041455     -0.146733      -0.21878        0.754701\n",
       "2 -0.798015     -0.146733      -0.21878       -0.078120\n",
       "3  0.412481      0.877467      -0.21878       -0.078120\n",
       "4 -0.344079     -0.146733      -0.21878       -0.910942"
      ]
     },
     "execution_count": 19,
     "metadata": {},
     "output_type": "execute_result"
    }
   ],
   "source": [
    "from sklearn.preprocessing import StandardScaler\n",
    "scaler = StandardScaler()\n",
    "adt_num = pd.DataFrame(scaler.fit_transform(adt_numerical), \n",
    "                      columns = adt_numerical.columns)\n",
    "adt_num.head()"
   ]
  },
  {
   "cell_type": "code",
   "execution_count": 20,
   "metadata": {},
   "outputs": [
    {
     "data": {
      "text/html": [
       "<div>\n",
       "<style scoped>\n",
       "    .dataframe tbody tr th:only-of-type {\n",
       "        vertical-align: middle;\n",
       "    }\n",
       "\n",
       "    .dataframe tbody tr th {\n",
       "        vertical-align: top;\n",
       "    }\n",
       "\n",
       "    .dataframe thead th {\n",
       "        text-align: right;\n",
       "    }\n",
       "</style>\n",
       "<table border=\"1\" class=\"dataframe\">\n",
       "  <thead>\n",
       "    <tr style=\"text-align: right;\">\n",
       "      <th></th>\n",
       "      <th>workclass_Local-gov</th>\n",
       "      <th>workclass_Private</th>\n",
       "      <th>workclass_Self-emp-inc</th>\n",
       "      <th>workclass_Self-emp-not-inc</th>\n",
       "      <th>workclass_State-gov</th>\n",
       "      <th>workclass_Without-pay</th>\n",
       "      <th>education_11th</th>\n",
       "      <th>education_12th</th>\n",
       "      <th>education_1st-4th</th>\n",
       "      <th>education_5th-6th</th>\n",
       "      <th>...</th>\n",
       "      <th>native-country_Puerto-Rico</th>\n",
       "      <th>native-country_Scotland</th>\n",
       "      <th>native-country_South</th>\n",
       "      <th>native-country_Taiwan</th>\n",
       "      <th>native-country_Thailand</th>\n",
       "      <th>native-country_Trinadad&amp;Tobago</th>\n",
       "      <th>native-country_United-States</th>\n",
       "      <th>native-country_Vietnam</th>\n",
       "      <th>native-country_Yugoslavia</th>\n",
       "      <th>income_&gt;50K</th>\n",
       "    </tr>\n",
       "  </thead>\n",
       "  <tbody>\n",
       "    <tr>\n",
       "      <th>0</th>\n",
       "      <td>0.0</td>\n",
       "      <td>1.0</td>\n",
       "      <td>0.0</td>\n",
       "      <td>0.0</td>\n",
       "      <td>0.0</td>\n",
       "      <td>0.0</td>\n",
       "      <td>1.0</td>\n",
       "      <td>0.0</td>\n",
       "      <td>0.0</td>\n",
       "      <td>0.0</td>\n",
       "      <td>...</td>\n",
       "      <td>0.0</td>\n",
       "      <td>0.0</td>\n",
       "      <td>0.0</td>\n",
       "      <td>0.0</td>\n",
       "      <td>0.0</td>\n",
       "      <td>0.0</td>\n",
       "      <td>1.0</td>\n",
       "      <td>0.0</td>\n",
       "      <td>0.0</td>\n",
       "      <td>0.0</td>\n",
       "    </tr>\n",
       "    <tr>\n",
       "      <th>1</th>\n",
       "      <td>0.0</td>\n",
       "      <td>1.0</td>\n",
       "      <td>0.0</td>\n",
       "      <td>0.0</td>\n",
       "      <td>0.0</td>\n",
       "      <td>0.0</td>\n",
       "      <td>0.0</td>\n",
       "      <td>0.0</td>\n",
       "      <td>0.0</td>\n",
       "      <td>0.0</td>\n",
       "      <td>...</td>\n",
       "      <td>0.0</td>\n",
       "      <td>0.0</td>\n",
       "      <td>0.0</td>\n",
       "      <td>0.0</td>\n",
       "      <td>0.0</td>\n",
       "      <td>0.0</td>\n",
       "      <td>1.0</td>\n",
       "      <td>0.0</td>\n",
       "      <td>0.0</td>\n",
       "      <td>0.0</td>\n",
       "    </tr>\n",
       "    <tr>\n",
       "      <th>2</th>\n",
       "      <td>1.0</td>\n",
       "      <td>0.0</td>\n",
       "      <td>0.0</td>\n",
       "      <td>0.0</td>\n",
       "      <td>0.0</td>\n",
       "      <td>0.0</td>\n",
       "      <td>0.0</td>\n",
       "      <td>0.0</td>\n",
       "      <td>0.0</td>\n",
       "      <td>0.0</td>\n",
       "      <td>...</td>\n",
       "      <td>0.0</td>\n",
       "      <td>0.0</td>\n",
       "      <td>0.0</td>\n",
       "      <td>0.0</td>\n",
       "      <td>0.0</td>\n",
       "      <td>0.0</td>\n",
       "      <td>1.0</td>\n",
       "      <td>0.0</td>\n",
       "      <td>0.0</td>\n",
       "      <td>1.0</td>\n",
       "    </tr>\n",
       "    <tr>\n",
       "      <th>3</th>\n",
       "      <td>0.0</td>\n",
       "      <td>1.0</td>\n",
       "      <td>0.0</td>\n",
       "      <td>0.0</td>\n",
       "      <td>0.0</td>\n",
       "      <td>0.0</td>\n",
       "      <td>0.0</td>\n",
       "      <td>0.0</td>\n",
       "      <td>0.0</td>\n",
       "      <td>0.0</td>\n",
       "      <td>...</td>\n",
       "      <td>0.0</td>\n",
       "      <td>0.0</td>\n",
       "      <td>0.0</td>\n",
       "      <td>0.0</td>\n",
       "      <td>0.0</td>\n",
       "      <td>0.0</td>\n",
       "      <td>1.0</td>\n",
       "      <td>0.0</td>\n",
       "      <td>0.0</td>\n",
       "      <td>1.0</td>\n",
       "    </tr>\n",
       "    <tr>\n",
       "      <th>4</th>\n",
       "      <td>0.0</td>\n",
       "      <td>1.0</td>\n",
       "      <td>0.0</td>\n",
       "      <td>0.0</td>\n",
       "      <td>0.0</td>\n",
       "      <td>0.0</td>\n",
       "      <td>0.0</td>\n",
       "      <td>0.0</td>\n",
       "      <td>0.0</td>\n",
       "      <td>0.0</td>\n",
       "      <td>...</td>\n",
       "      <td>0.0</td>\n",
       "      <td>0.0</td>\n",
       "      <td>0.0</td>\n",
       "      <td>0.0</td>\n",
       "      <td>0.0</td>\n",
       "      <td>0.0</td>\n",
       "      <td>1.0</td>\n",
       "      <td>0.0</td>\n",
       "      <td>0.0</td>\n",
       "      <td>0.0</td>\n",
       "    </tr>\n",
       "  </tbody>\n",
       "</table>\n",
       "<p>5 rows × 91 columns</p>\n",
       "</div>"
      ],
      "text/plain": [
       "   workclass_Local-gov  workclass_Private  workclass_Self-emp-inc  \\\n",
       "0                  0.0                1.0                     0.0   \n",
       "1                  0.0                1.0                     0.0   \n",
       "2                  1.0                0.0                     0.0   \n",
       "3                  0.0                1.0                     0.0   \n",
       "4                  0.0                1.0                     0.0   \n",
       "\n",
       "   workclass_Self-emp-not-inc  workclass_State-gov  workclass_Without-pay  \\\n",
       "0                         0.0                  0.0                    0.0   \n",
       "1                         0.0                  0.0                    0.0   \n",
       "2                         0.0                  0.0                    0.0   \n",
       "3                         0.0                  0.0                    0.0   \n",
       "4                         0.0                  0.0                    0.0   \n",
       "\n",
       "   education_11th  education_12th  education_1st-4th  education_5th-6th  ...  \\\n",
       "0             1.0             0.0                0.0                0.0  ...   \n",
       "1             0.0             0.0                0.0                0.0  ...   \n",
       "2             0.0             0.0                0.0                0.0  ...   \n",
       "3             0.0             0.0                0.0                0.0  ...   \n",
       "4             0.0             0.0                0.0                0.0  ...   \n",
       "\n",
       "   native-country_Puerto-Rico  native-country_Scotland  native-country_South  \\\n",
       "0                         0.0                      0.0                   0.0   \n",
       "1                         0.0                      0.0                   0.0   \n",
       "2                         0.0                      0.0                   0.0   \n",
       "3                         0.0                      0.0                   0.0   \n",
       "4                         0.0                      0.0                   0.0   \n",
       "\n",
       "   native-country_Taiwan  native-country_Thailand  \\\n",
       "0                    0.0                      0.0   \n",
       "1                    0.0                      0.0   \n",
       "2                    0.0                      0.0   \n",
       "3                    0.0                      0.0   \n",
       "4                    0.0                      0.0   \n",
       "\n",
       "   native-country_Trinadad&Tobago  native-country_United-States  \\\n",
       "0                             0.0                           1.0   \n",
       "1                             0.0                           1.0   \n",
       "2                             0.0                           1.0   \n",
       "3                             0.0                           1.0   \n",
       "4                             0.0                           1.0   \n",
       "\n",
       "   native-country_Vietnam  native-country_Yugoslavia  income_>50K  \n",
       "0                     0.0                        0.0          0.0  \n",
       "1                     0.0                        0.0          0.0  \n",
       "2                     0.0                        0.0          1.0  \n",
       "3                     0.0                        0.0          1.0  \n",
       "4                     0.0                        0.0          0.0  \n",
       "\n",
       "[5 rows x 91 columns]"
      ]
     },
     "execution_count": 20,
     "metadata": {},
     "output_type": "execute_result"
    }
   ],
   "source": [
    "from sklearn.preprocessing import OneHotEncoder\n",
    "encoder = OneHotEncoder(drop='first',sparse=False)\n",
    "adt_cat = pd.DataFrame(encoder.fit_transform(adt_categorical), \n",
    "                      columns=encoder.get_feature_names(adt_categorical.columns))\n",
    "adt_cat.head()"
   ]
  },
  {
   "cell_type": "code",
   "execution_count": 21,
   "metadata": {
    "scrolled": true
   },
   "outputs": [
    {
     "data": {
      "text/html": [
       "<div>\n",
       "<style scoped>\n",
       "    .dataframe tbody tr th:only-of-type {\n",
       "        vertical-align: middle;\n",
       "    }\n",
       "\n",
       "    .dataframe tbody tr th {\n",
       "        vertical-align: top;\n",
       "    }\n",
       "\n",
       "    .dataframe thead th {\n",
       "        text-align: right;\n",
       "    }\n",
       "</style>\n",
       "<table border=\"1\" class=\"dataframe\">\n",
       "  <thead>\n",
       "    <tr style=\"text-align: right;\">\n",
       "      <th></th>\n",
       "      <th>age</th>\n",
       "      <th>capital-gain</th>\n",
       "      <th>capital-loss</th>\n",
       "      <th>hours-per-week</th>\n",
       "      <th>workclass_Local-gov</th>\n",
       "      <th>workclass_Private</th>\n",
       "      <th>workclass_Self-emp-inc</th>\n",
       "      <th>workclass_Self-emp-not-inc</th>\n",
       "      <th>workclass_State-gov</th>\n",
       "      <th>workclass_Without-pay</th>\n",
       "      <th>...</th>\n",
       "      <th>native-country_Puerto-Rico</th>\n",
       "      <th>native-country_Scotland</th>\n",
       "      <th>native-country_South</th>\n",
       "      <th>native-country_Taiwan</th>\n",
       "      <th>native-country_Thailand</th>\n",
       "      <th>native-country_Trinadad&amp;Tobago</th>\n",
       "      <th>native-country_United-States</th>\n",
       "      <th>native-country_Vietnam</th>\n",
       "      <th>native-country_Yugoslavia</th>\n",
       "      <th>income_&gt;50K</th>\n",
       "    </tr>\n",
       "  </thead>\n",
       "  <tbody>\n",
       "    <tr>\n",
       "      <th>0</th>\n",
       "      <td>-1.024983</td>\n",
       "      <td>-0.146733</td>\n",
       "      <td>-0.21878</td>\n",
       "      <td>-0.078120</td>\n",
       "      <td>0.0</td>\n",
       "      <td>1.0</td>\n",
       "      <td>0.0</td>\n",
       "      <td>0.0</td>\n",
       "      <td>0.0</td>\n",
       "      <td>0.0</td>\n",
       "      <td>...</td>\n",
       "      <td>0.0</td>\n",
       "      <td>0.0</td>\n",
       "      <td>0.0</td>\n",
       "      <td>0.0</td>\n",
       "      <td>0.0</td>\n",
       "      <td>0.0</td>\n",
       "      <td>1.0</td>\n",
       "      <td>0.0</td>\n",
       "      <td>0.0</td>\n",
       "      <td>0.0</td>\n",
       "    </tr>\n",
       "    <tr>\n",
       "      <th>1</th>\n",
       "      <td>-0.041455</td>\n",
       "      <td>-0.146733</td>\n",
       "      <td>-0.21878</td>\n",
       "      <td>0.754701</td>\n",
       "      <td>0.0</td>\n",
       "      <td>1.0</td>\n",
       "      <td>0.0</td>\n",
       "      <td>0.0</td>\n",
       "      <td>0.0</td>\n",
       "      <td>0.0</td>\n",
       "      <td>...</td>\n",
       "      <td>0.0</td>\n",
       "      <td>0.0</td>\n",
       "      <td>0.0</td>\n",
       "      <td>0.0</td>\n",
       "      <td>0.0</td>\n",
       "      <td>0.0</td>\n",
       "      <td>1.0</td>\n",
       "      <td>0.0</td>\n",
       "      <td>0.0</td>\n",
       "      <td>0.0</td>\n",
       "    </tr>\n",
       "    <tr>\n",
       "      <th>2</th>\n",
       "      <td>-0.798015</td>\n",
       "      <td>-0.146733</td>\n",
       "      <td>-0.21878</td>\n",
       "      <td>-0.078120</td>\n",
       "      <td>1.0</td>\n",
       "      <td>0.0</td>\n",
       "      <td>0.0</td>\n",
       "      <td>0.0</td>\n",
       "      <td>0.0</td>\n",
       "      <td>0.0</td>\n",
       "      <td>...</td>\n",
       "      <td>0.0</td>\n",
       "      <td>0.0</td>\n",
       "      <td>0.0</td>\n",
       "      <td>0.0</td>\n",
       "      <td>0.0</td>\n",
       "      <td>0.0</td>\n",
       "      <td>1.0</td>\n",
       "      <td>0.0</td>\n",
       "      <td>0.0</td>\n",
       "      <td>1.0</td>\n",
       "    </tr>\n",
       "    <tr>\n",
       "      <th>3</th>\n",
       "      <td>0.412481</td>\n",
       "      <td>0.877467</td>\n",
       "      <td>-0.21878</td>\n",
       "      <td>-0.078120</td>\n",
       "      <td>0.0</td>\n",
       "      <td>1.0</td>\n",
       "      <td>0.0</td>\n",
       "      <td>0.0</td>\n",
       "      <td>0.0</td>\n",
       "      <td>0.0</td>\n",
       "      <td>...</td>\n",
       "      <td>0.0</td>\n",
       "      <td>0.0</td>\n",
       "      <td>0.0</td>\n",
       "      <td>0.0</td>\n",
       "      <td>0.0</td>\n",
       "      <td>0.0</td>\n",
       "      <td>1.0</td>\n",
       "      <td>0.0</td>\n",
       "      <td>0.0</td>\n",
       "      <td>1.0</td>\n",
       "    </tr>\n",
       "    <tr>\n",
       "      <th>4</th>\n",
       "      <td>-0.344079</td>\n",
       "      <td>-0.146733</td>\n",
       "      <td>-0.21878</td>\n",
       "      <td>-0.910942</td>\n",
       "      <td>0.0</td>\n",
       "      <td>1.0</td>\n",
       "      <td>0.0</td>\n",
       "      <td>0.0</td>\n",
       "      <td>0.0</td>\n",
       "      <td>0.0</td>\n",
       "      <td>...</td>\n",
       "      <td>0.0</td>\n",
       "      <td>0.0</td>\n",
       "      <td>0.0</td>\n",
       "      <td>0.0</td>\n",
       "      <td>0.0</td>\n",
       "      <td>0.0</td>\n",
       "      <td>1.0</td>\n",
       "      <td>0.0</td>\n",
       "      <td>0.0</td>\n",
       "      <td>0.0</td>\n",
       "    </tr>\n",
       "  </tbody>\n",
       "</table>\n",
       "<p>5 rows × 95 columns</p>\n",
       "</div>"
      ],
      "text/plain": [
       "        age  capital-gain  capital-loss  hours-per-week  workclass_Local-gov  \\\n",
       "0 -1.024983     -0.146733      -0.21878       -0.078120                  0.0   \n",
       "1 -0.041455     -0.146733      -0.21878        0.754701                  0.0   \n",
       "2 -0.798015     -0.146733      -0.21878       -0.078120                  1.0   \n",
       "3  0.412481      0.877467      -0.21878       -0.078120                  0.0   \n",
       "4 -0.344079     -0.146733      -0.21878       -0.910942                  0.0   \n",
       "\n",
       "   workclass_Private  workclass_Self-emp-inc  workclass_Self-emp-not-inc  \\\n",
       "0                1.0                     0.0                         0.0   \n",
       "1                1.0                     0.0                         0.0   \n",
       "2                0.0                     0.0                         0.0   \n",
       "3                1.0                     0.0                         0.0   \n",
       "4                1.0                     0.0                         0.0   \n",
       "\n",
       "   workclass_State-gov  workclass_Without-pay  ...  \\\n",
       "0                  0.0                    0.0  ...   \n",
       "1                  0.0                    0.0  ...   \n",
       "2                  0.0                    0.0  ...   \n",
       "3                  0.0                    0.0  ...   \n",
       "4                  0.0                    0.0  ...   \n",
       "\n",
       "   native-country_Puerto-Rico  native-country_Scotland  native-country_South  \\\n",
       "0                         0.0                      0.0                   0.0   \n",
       "1                         0.0                      0.0                   0.0   \n",
       "2                         0.0                      0.0                   0.0   \n",
       "3                         0.0                      0.0                   0.0   \n",
       "4                         0.0                      0.0                   0.0   \n",
       "\n",
       "   native-country_Taiwan  native-country_Thailand  \\\n",
       "0                    0.0                      0.0   \n",
       "1                    0.0                      0.0   \n",
       "2                    0.0                      0.0   \n",
       "3                    0.0                      0.0   \n",
       "4                    0.0                      0.0   \n",
       "\n",
       "   native-country_Trinadad&Tobago  native-country_United-States  \\\n",
       "0                             0.0                           1.0   \n",
       "1                             0.0                           1.0   \n",
       "2                             0.0                           1.0   \n",
       "3                             0.0                           1.0   \n",
       "4                             0.0                           1.0   \n",
       "\n",
       "   native-country_Vietnam  native-country_Yugoslavia  income_>50K  \n",
       "0                     0.0                        0.0          0.0  \n",
       "1                     0.0                        0.0          0.0  \n",
       "2                     0.0                        0.0          1.0  \n",
       "3                     0.0                        0.0          1.0  \n",
       "4                     0.0                        0.0          0.0  \n",
       "\n",
       "[5 rows x 95 columns]"
      ]
     },
     "execution_count": 21,
     "metadata": {},
     "output_type": "execute_result"
    }
   ],
   "source": [
    "adt = pd.concat([adt_num, adt_cat], axis=1)\n",
    "\n",
    "adt.head()"
   ]
  },
  {
   "cell_type": "code",
   "execution_count": 22,
   "metadata": {},
   "outputs": [],
   "source": [
    "y = adt.pop('income_>50K')\n",
    "\n",
    "x = adt"
   ]
  },
  {
   "cell_type": "markdown",
   "metadata": {},
   "source": [
    "# Test Train Split"
   ]
  },
  {
   "cell_type": "code",
   "execution_count": 23,
   "metadata": {},
   "outputs": [],
   "source": [
    "from sklearn.model_selection import train_test_split\n",
    "\n",
    "x_train, x_test, y_train, y_test = train_test_split(x, y, train_size=0.7, random_state=0)"
   ]
  },
  {
   "cell_type": "code",
   "execution_count": 24,
   "metadata": {},
   "outputs": [
    {
     "name": "stdout",
     "output_type": "stream",
     "text": [
      "(31655, 94) (31655,)\n",
      "(13567, 94) (13567,)\n"
     ]
    }
   ],
   "source": [
    "print(x_train.shape, y_train.shape)\n",
    "print(x_test.shape, y_test.shape)"
   ]
  },
  {
   "cell_type": "markdown",
   "metadata": {},
   "source": [
    "# Training"
   ]
  },
  {
   "cell_type": "code",
   "execution_count": 25,
   "metadata": {},
   "outputs": [
    {
     "name": "stderr",
     "output_type": "stream",
     "text": [
      "C:\\Users\\pooja\\anaconda3\\lib\\site-packages\\sklearn\\linear_model\\_logistic.py:940: ConvergenceWarning: lbfgs failed to converge (status=1):\n",
      "STOP: TOTAL NO. of ITERATIONS REACHED LIMIT.\n",
      "\n",
      "Increase the number of iterations (max_iter) or scale the data as shown in:\n",
      "    https://scikit-learn.org/stable/modules/preprocessing.html\n",
      "Please also refer to the documentation for alternative solver options:\n",
      "    https://scikit-learn.org/stable/modules/linear_model.html#logistic-regression\n",
      "  extra_warning_msg=_LOGISTIC_SOLVER_CONVERGENCE_MSG)\n"
     ]
    },
    {
     "data": {
      "text/plain": [
       "LogisticRegression(C=1.0, class_weight=None, dual=False, fit_intercept=True,\n",
       "                   intercept_scaling=1, l1_ratio=None, max_iter=100,\n",
       "                   multi_class='auto', n_jobs=None, penalty='l2',\n",
       "                   random_state=None, solver='lbfgs', tol=0.0001, verbose=0,\n",
       "                   warm_start=False)"
      ]
     },
     "execution_count": 25,
     "metadata": {},
     "output_type": "execute_result"
    }
   ],
   "source": [
    "from sklearn.linear_model import LogisticRegression\n",
    "Classifier = LogisticRegression()\n",
    "Classifier.fit(x_train, y_train)"
   ]
  },
  {
   "cell_type": "code",
   "execution_count": 26,
   "metadata": {},
   "outputs": [
    {
     "name": "stdout",
     "output_type": "stream",
     "text": [
      "[[ 0.3329597   2.43099797  0.27254898  0.36676253 -0.65888544 -0.53907042\n",
      "  -0.40757773 -1.09858496 -0.81964495 -0.97361344 -0.14339424  0.38279946\n",
      "  -0.58051571 -0.30046494 -0.77580795 -0.43723863  1.20227494  1.07355673\n",
      "   1.71850784  2.45818142  0.55950681  2.0146439  -1.15983614  2.66149142\n",
      "   0.93951541  1.10082205  2.02866599  0.25418145 -0.35119255 -0.0369574\n",
      "   0.10255604  0.02364798  0.08330397  0.76281704 -0.99734082 -0.57647083\n",
      "  -0.36169199 -0.8661253  -1.31668007  0.52529917  0.44216678  0.24471617\n",
      "   0.5475161  -0.02483975  0.1713201  -0.73332734 -0.83785602  0.06448436\n",
      "   1.10427169  0.94422625  0.34591217  0.21482347  0.54598048  0.70023944\n",
      "   0.54748909 -0.33068202 -1.43172798  0.09031095 -0.34711291 -0.39224668\n",
      "  -0.31301062  0.5872819   0.80541991  0.38806762 -0.01460594 -0.81008948\n",
      "  -0.00459161 -0.01214631 -0.12841493 -0.19698914  0.0142785  -0.15476313\n",
      "   0.07420071  1.00402325  0.41027719  0.49818244  0.17761569  0.0491086\n",
      "  -0.46699639  0.0055023  -0.16595862 -0.55502144  0.30151834  0.05452683\n",
      "   0.46469309  0.02669405 -0.37498395 -1.59814224  0.01601981 -0.64533996\n",
      "  -0.53032292  0.38090972 -1.60516501  0.69859655]]\n",
      "[-4.46735899]\n"
     ]
    }
   ],
   "source": [
    "#print coefficient and intercept\n",
    "print(Classifier.coef_)\n",
    "print(Classifier.intercept_)"
   ]
  },
  {
   "cell_type": "markdown",
   "metadata": {},
   "source": [
    "# Prediction"
   ]
  },
  {
   "cell_type": "code",
   "execution_count": 27,
   "metadata": {},
   "outputs": [],
   "source": [
    "y_pred = Classifier.predict(x_train)"
   ]
  },
  {
   "cell_type": "code",
   "execution_count": 28,
   "metadata": {},
   "outputs": [],
   "source": [
    "y_test_pred = Classifier.predict(x_test)"
   ]
  },
  {
   "cell_type": "code",
   "execution_count": 29,
   "metadata": {},
   "outputs": [
    {
     "data": {
      "text/plain": [
       "array([[0.94, 0.06],\n",
       "       [0.98, 0.02],\n",
       "       [0.84, 0.16],\n",
       "       ...,\n",
       "       [1.  , 0.  ],\n",
       "       [0.99, 0.01],\n",
       "       [0.56, 0.44]])"
      ]
     },
     "execution_count": 29,
     "metadata": {},
     "output_type": "execute_result"
    }
   ],
   "source": [
    "Pred_prob = Classifier.predict_proba(x_test)\n",
    "\n",
    "np.around(Pred_prob, decimals = 2)"
   ]
  },
  {
   "cell_type": "markdown",
   "metadata": {},
   "source": [
    "# Evalution"
   ]
  },
  {
   "cell_type": "code",
   "execution_count": 30,
   "metadata": {},
   "outputs": [
    {
     "name": "stdout",
     "output_type": "stream",
     "text": [
      "Mean Absolute Error :  0.15906243089850372\n",
      "Mean Squared Error :  0.15906243089850372\n",
      "Root Mean Squared Error :  0.39882631670754093\n"
     ]
    }
   ],
   "source": [
    "from sklearn import metrics\n",
    "print('Mean Absolute Error : ', metrics.mean_absolute_error(y_test, y_test_pred))\n",
    "print('Mean Squared Error : ', metrics.mean_squared_error(y_test, y_test_pred))\n",
    "print('Root Mean Squared Error : ', np.sqrt(metrics.mean_squared_error(y_test, y_test_pred)))"
   ]
  },
  {
   "cell_type": "code",
   "execution_count": 31,
   "metadata": {},
   "outputs": [
    {
     "data": {
      "text/plain": [
       "0.8409375691014963"
      ]
     },
     "execution_count": 31,
     "metadata": {},
     "output_type": "execute_result"
    }
   ],
   "source": [
    "from sklearn import metrics\n",
    "metrics.accuracy_score(y_test, y_test_pred)"
   ]
  },
  {
   "cell_type": "code",
   "execution_count": 32,
   "metadata": {},
   "outputs": [
    {
     "data": {
      "text/plain": [
       "array([[9379,  763],\n",
       "       [1395, 2030]], dtype=int64)"
      ]
     },
     "execution_count": 32,
     "metadata": {},
     "output_type": "execute_result"
    }
   ],
   "source": [
    "con_metric=metrics.confusion_matrix(y_test, y_test_pred)\n",
    "con_metric"
   ]
  },
  {
   "cell_type": "code",
   "execution_count": 33,
   "metadata": {},
   "outputs": [
    {
     "data": {
      "image/png": "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\n",
      "text/plain": [
       "<Figure size 432x288 with 2 Axes>"
      ]
     },
     "metadata": {
      "needs_background": "light"
     },
     "output_type": "display_data"
    }
   ],
   "source": [
    "sns.heatmap(con_metric, annot=True, fmt='d')\n",
    "plt.title(\"Confusion Matrix\")\n",
    "plt.show()"
   ]
  },
  {
   "cell_type": "code",
   "execution_count": 34,
   "metadata": {},
   "outputs": [
    {
     "name": "stdout",
     "output_type": "stream",
     "text": [
      "              precision    recall  f1-score   support\n",
      "\n",
      "         0.0       0.87      0.92      0.90     10142\n",
      "         1.0       0.73      0.59      0.65      3425\n",
      "\n",
      "    accuracy                           0.84     13567\n",
      "   macro avg       0.80      0.76      0.77     13567\n",
      "weighted avg       0.83      0.84      0.84     13567\n",
      "\n"
     ]
    }
   ],
   "source": [
    "print(metrics.classification_report(y_test,y_test_pred))"
   ]
  },
  {
   "cell_type": "markdown",
   "metadata": {},
   "source": [
    "# Principle Component Analysis"
   ]
  },
  {
   "cell_type": "code",
   "execution_count": 35,
   "metadata": {},
   "outputs": [
    {
     "data": {
      "text/plain": [
       "(31655, 94)"
      ]
     },
     "execution_count": 35,
     "metadata": {},
     "output_type": "execute_result"
    }
   ],
   "source": [
    "x_train.shape"
   ]
  },
  {
   "cell_type": "code",
   "execution_count": 36,
   "metadata": {},
   "outputs": [
    {
     "data": {
      "text/plain": [
       "<matplotlib.axes._subplots.AxesSubplot at 0x1eb173b57c8>"
      ]
     },
     "execution_count": 36,
     "metadata": {},
     "output_type": "execute_result"
    },
    {
     "data": {
      "image/png": "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\n",
      "text/plain": [
       "<Figure size 864x648 with 2 Axes>"
      ]
     },
     "metadata": {
      "needs_background": "light"
     },
     "output_type": "display_data"
    }
   ],
   "source": [
    "plt.figure(figsize=(12,9))\n",
    "sns.heatmap(x_train.corr(),cmap='YlGnBu')"
   ]
  },
  {
   "cell_type": "code",
   "execution_count": 37,
   "metadata": {},
   "outputs": [],
   "source": [
    "from sklearn.decomposition import PCA\n",
    "pca = PCA(random_state = 0)"
   ]
  },
  {
   "cell_type": "code",
   "execution_count": 38,
   "metadata": {},
   "outputs": [
    {
     "data": {
      "text/plain": [
       "PCA(copy=True, iterated_power='auto', n_components=None, random_state=0,\n",
       "    svd_solver='auto', tol=0.0, whiten=False)"
      ]
     },
     "execution_count": 38,
     "metadata": {},
     "output_type": "execute_result"
    }
   ],
   "source": [
    "pca.fit(x_train)"
   ]
  },
  {
   "cell_type": "code",
   "execution_count": 39,
   "metadata": {},
   "outputs": [
    {
     "data": {
      "image/png": "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\n",
      "text/plain": [
       "<Figure size 864x648 with 1 Axes>"
      ]
     },
     "metadata": {
      "needs_background": "light"
     },
     "output_type": "display_data"
    }
   ],
   "source": [
    "plt.figure(figsize=(12,9))\n",
    "plt.plot(np.cumsum(pca.explained_variance_ratio_))\n",
    "plt.xlabel('Number of component')\n",
    "plt.ylabel('Cummulative of Variance')\n",
    "plt.show()"
   ]
  },
  {
   "cell_type": "code",
   "execution_count": 40,
   "metadata": {},
   "outputs": [
    {
     "data": {
      "text/plain": [
       "array([0.18055078, 0.31942225, 0.44056756, 0.55776113, 0.6103572 ,\n",
       "       0.6492041 , 0.67912146, 0.70835419, 0.73469635, 0.75811829,\n",
       "       0.77848355, 0.79581766, 0.81162894, 0.8267446 , 0.8399378 ,\n",
       "       0.85284798, 0.86471897, 0.87530914, 0.88479743, 0.89401904,\n",
       "       0.90228391, 0.90970364, 0.91641939, 0.92256148, 0.92815754,\n",
       "       0.93344695, 0.93807159, 0.94266399, 0.94722733, 0.95157058,\n",
       "       0.95574216, 0.9596223 , 0.96342483, 0.96681413, 0.96960599,\n",
       "       0.97223768, 0.9748214 , 0.9770071 , 0.9789177 , 0.98077724,\n",
       "       0.98257107, 0.98404485, 0.98544057, 0.98679416, 0.98792395,\n",
       "       0.98901964, 0.98973605, 0.9904101 , 0.99105394, 0.99163352,\n",
       "       0.99219161, 0.99269255, 0.99314904, 0.99354437, 0.99393811,\n",
       "       0.99430438, 0.99463605, 0.99494745, 0.99524097, 0.9955316 ,\n",
       "       0.99580723, 0.99607508, 0.99634076, 0.99660261, 0.99684446,\n",
       "       0.99708493, 0.997324  , 0.99752158, 0.99770953, 0.99789342,\n",
       "       0.99806554, 0.99823054, 0.99838727, 0.99854053, 0.99868829,\n",
       "       0.99881854, 0.99893761, 0.99905188, 0.99915696, 0.99925455,\n",
       "       0.99934247, 0.99942053, 0.99949468, 0.99956301, 0.99963006,\n",
       "       0.99969662, 0.99975321, 0.99980651, 0.99985966, 0.99990808,\n",
       "       0.99995352, 0.99999399, 0.99999826, 1.        ])"
      ]
     },
     "execution_count": 40,
     "metadata": {},
     "output_type": "execute_result"
    }
   ],
   "source": [
    "np.cumsum(pca.explained_variance_ratio_)"
   ]
  },
  {
   "cell_type": "code",
   "execution_count": 41,
   "metadata": {},
   "outputs": [],
   "source": [
    "from sklearn.decomposition import PCA\n",
    "\n",
    "pca_final = PCA(n_components = 17, random_state = 0)\n",
    "\n",
    "x_train_pca = pca_final.fit_transform(x_train)"
   ]
  },
  {
   "cell_type": "code",
   "execution_count": 42,
   "metadata": {},
   "outputs": [
    {
     "data": {
      "text/plain": [
       "(31655, 17)"
      ]
     },
     "execution_count": 42,
     "metadata": {},
     "output_type": "execute_result"
    }
   ],
   "source": [
    "x_train_pca.shape"
   ]
  },
  {
   "cell_type": "code",
   "execution_count": 43,
   "metadata": {},
   "outputs": [
    {
     "data": {
      "text/plain": [
       "<matplotlib.axes._subplots.AxesSubplot at 0x1eb175fef88>"
      ]
     },
     "execution_count": 43,
     "metadata": {},
     "output_type": "execute_result"
    },
    {
     "data": {
      "image/png": "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\n",
      "text/plain": [
       "<Figure size 1296x648 with 2 Axes>"
      ]
     },
     "metadata": {
      "needs_background": "light"
     },
     "output_type": "display_data"
    }
   ],
   "source": [
    "corrmap = np.corrcoef(x_train_pca.T)\n",
    "\n",
    "plt.figure(figsize=(18, 9))\n",
    "\n",
    "sns.heatmap(corrmap, cmap=\"YlGnBu\")"
   ]
  },
  {
   "cell_type": "code",
   "execution_count": 44,
   "metadata": {},
   "outputs": [],
   "source": [
    "x_test_pca = pca_final.transform(x_test)"
   ]
  },
  {
   "cell_type": "code",
   "execution_count": 45,
   "metadata": {},
   "outputs": [
    {
     "data": {
      "text/plain": [
       "LogisticRegression(C=1.0, class_weight=None, dual=False, fit_intercept=True,\n",
       "                   intercept_scaling=1, l1_ratio=None, max_iter=100,\n",
       "                   multi_class='auto', n_jobs=None, penalty='l2',\n",
       "                   random_state=None, solver='lbfgs', tol=0.0001, verbose=0,\n",
       "                   warm_start=False)"
      ]
     },
     "execution_count": 45,
     "metadata": {},
     "output_type": "execute_result"
    }
   ],
   "source": [
    "from sklearn.linear_model import LogisticRegression\n",
    "classifier_pca = LogisticRegression()\n",
    "classifier_pca.fit(x_train_pca, y_train)"
   ]
  },
  {
   "cell_type": "code",
   "execution_count": 46,
   "metadata": {},
   "outputs": [
    {
     "name": "stdout",
     "output_type": "stream",
     "text": [
      "[[ 2.29425942  1.56877096  0.50171944  0.77965533 -1.22527039 -1.01886374\n",
      "  -0.21824375 -0.28340213 -1.24753183  0.02435369 -0.75079052  0.37031369\n",
      "   0.37477417 -0.35204834 -1.61138558 -0.39725124  0.89208143]]\n",
      "[-1.84681834]\n"
     ]
    }
   ],
   "source": [
    "print(classifier_pca.coef_)\n",
    "print(classifier_pca.intercept_)"
   ]
  },
  {
   "cell_type": "markdown",
   "metadata": {},
   "source": [
    "# Prediction"
   ]
  },
  {
   "cell_type": "code",
   "execution_count": 47,
   "metadata": {},
   "outputs": [],
   "source": [
    "y_train_pred_pca = classifier_pca.predict(x_train_pca)"
   ]
  },
  {
   "cell_type": "code",
   "execution_count": 48,
   "metadata": {},
   "outputs": [
    {
     "data": {
      "text/html": [
       "<div>\n",
       "<style scoped>\n",
       "    .dataframe tbody tr th:only-of-type {\n",
       "        vertical-align: middle;\n",
       "    }\n",
       "\n",
       "    .dataframe tbody tr th {\n",
       "        vertical-align: top;\n",
       "    }\n",
       "\n",
       "    .dataframe thead th {\n",
       "        text-align: right;\n",
       "    }\n",
       "</style>\n",
       "<table border=\"1\" class=\"dataframe\">\n",
       "  <thead>\n",
       "    <tr style=\"text-align: right;\">\n",
       "      <th></th>\n",
       "      <th>Actual</th>\n",
       "      <th>Predicted</th>\n",
       "    </tr>\n",
       "  </thead>\n",
       "  <tbody>\n",
       "    <tr>\n",
       "      <th>41387</th>\n",
       "      <td>0.0</td>\n",
       "      <td>0.0</td>\n",
       "    </tr>\n",
       "    <tr>\n",
       "      <th>35278</th>\n",
       "      <td>0.0</td>\n",
       "      <td>0.0</td>\n",
       "    </tr>\n",
       "    <tr>\n",
       "      <th>26950</th>\n",
       "      <td>0.0</td>\n",
       "      <td>0.0</td>\n",
       "    </tr>\n",
       "    <tr>\n",
       "      <th>29133</th>\n",
       "      <td>1.0</td>\n",
       "      <td>0.0</td>\n",
       "    </tr>\n",
       "    <tr>\n",
       "      <th>41794</th>\n",
       "      <td>0.0</td>\n",
       "      <td>0.0</td>\n",
       "    </tr>\n",
       "  </tbody>\n",
       "</table>\n",
       "</div>"
      ],
      "text/plain": [
       "       Actual  Predicted\n",
       "41387     0.0        0.0\n",
       "35278     0.0        0.0\n",
       "26950     0.0        0.0\n",
       "29133     1.0        0.0\n",
       "41794     0.0        0.0"
      ]
     },
     "execution_count": 48,
     "metadata": {},
     "output_type": "execute_result"
    }
   ],
   "source": [
    "y_test_pred_pca = classifier_pca.predict(x_test_pca)\n",
    "\n",
    "temp_df = pd.DataFrame({'Actual': y_test, 'Predicted': y_test_pred_pca})\n",
    "\n",
    "temp_df.head()"
   ]
  },
  {
   "cell_type": "markdown",
   "metadata": {},
   "source": [
    "# Evalution"
   ]
  },
  {
   "cell_type": "code",
   "execution_count": 49,
   "metadata": {},
   "outputs": [
    {
     "name": "stdout",
     "output_type": "stream",
     "text": [
      "Mean Absolute Error:  0.16333751013488612\n",
      "Mean Squared Error:  0.16333751013488612\n",
      "Root Mean Squared Error:  0.4041503558514902\n"
     ]
    }
   ],
   "source": [
    "from sklearn import metrics\n",
    "print('Mean Absolute Error: ', metrics.mean_absolute_error(y_test, y_test_pred_pca))\n",
    "print('Mean Squared Error: ', metrics.mean_squared_error(y_test, y_test_pred_pca))\n",
    "print('Root Mean Squared Error: ', np.sqrt(metrics.mean_squared_error(y_test, y_test_pred_pca)))"
   ]
  },
  {
   "cell_type": "code",
   "execution_count": 50,
   "metadata": {},
   "outputs": [
    {
     "data": {
      "text/plain": [
       "0.8366624898651139"
      ]
     },
     "execution_count": 50,
     "metadata": {},
     "output_type": "execute_result"
    }
   ],
   "source": [
    "from sklearn import metrics\n",
    "metrics.accuracy_score(y_test, y_test_pred_pca)"
   ]
  },
  {
   "cell_type": "code",
   "execution_count": 51,
   "metadata": {},
   "outputs": [
    {
     "name": "stdout",
     "output_type": "stream",
     "text": [
      "              precision    recall  f1-score   support\n",
      "\n",
      "         0.0       0.87      0.92      0.90     10142\n",
      "         1.0       0.73      0.59      0.65      3425\n",
      "\n",
      "    accuracy                           0.84     13567\n",
      "   macro avg       0.80      0.76      0.77     13567\n",
      "weighted avg       0.83      0.84      0.84     13567\n",
      "\n"
     ]
    }
   ],
   "source": [
    "print(metrics.classification_report(y_test,y_test_pred))"
   ]
  },
  {
   "cell_type": "code",
   "execution_count": null,
   "metadata": {},
   "outputs": [],
   "source": []
  }
 ],
 "metadata": {
  "kernelspec": {
   "display_name": "Python 3",
   "language": "python",
   "name": "python3"
  },
  "language_info": {
   "codemirror_mode": {
    "name": "ipython",
    "version": 3
   },
   "file_extension": ".py",
   "mimetype": "text/x-python",
   "name": "python",
   "nbconvert_exporter": "python",
   "pygments_lexer": "ipython3",
   "version": "3.7.6"
  }
 },
 "nbformat": 4,
 "nbformat_minor": 4
}
